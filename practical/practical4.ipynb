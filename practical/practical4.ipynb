{
 "cells": [
  {
   "cell_type": "code",
   "execution_count": 18,
   "metadata": {},
   "outputs": [
    {
     "name": "stdout",
     "output_type": "stream",
     "text": [
      "10.0\n"
     ]
    }
   ],
   "source": [
    "import math\n",
    "x=1024\n",
    "result = math.log2(x)\n",
    "print(result)\n",
    "\n"
   ]
  },
  {
   "cell_type": "code",
   "execution_count": 25,
   "metadata": {},
   "outputs": [
    {
     "name": "stdout",
     "output_type": "stream",
     "text": [
      "hello\n",
      "hi\n",
      "nameste\n"
     ]
    }
   ],
   "source": [
    "\n",
    "def displayTwice(msg):\n",
    "    return msg\n",
    "\n",
    "print(displayTwice(\"hello\"))\n",
    "print(displayTwice(\"hi\"))\n",
    "print(displayTwice(\"nameste\"))\n"
   ]
  },
  {
   "cell_type": "code",
   "execution_count": 4,
   "metadata": {},
   "outputs": [
    {
     "name": "stdout",
     "output_type": "stream",
     "text": [
      "hello\n",
      "hi\n",
      "nameste\n",
      "Help on function displayTwice in module __main__:\n",
      "\n",
      "displayTwice(msg)\n",
      "    appear right after the definition of a function, method, class, or module is called docstring\n",
      "\n"
     ]
    }
   ],
   "source": [
    "def displayTwice(msg):\n",
    "    '''appear right after the definition of a function, method, class, or module is called docstring''' \n",
    "    return msg\n",
    "\n",
    "print(displayTwice(\"hello\"))\n",
    "print(displayTwice(\"hi\"))\n",
    "print(displayTwice(\"nameste\"))\n",
    "help(displayTwice) "
   ]
  },
  {
   "cell_type": "code",
   "execution_count": 32,
   "metadata": {},
   "outputs": [
    {
     "name": "stdout",
     "output_type": "stream",
     "text": [
      "odd once\n",
      "1\n"
     ]
    }
   ],
   "source": [
    "a=int(input(\"Enter a number:\"))\n",
    "def even_numbers(a):\n",
    "    '''finding odd even'''\n",
    "    if(a%2==0):\n",
    "        print(\"a is even\")\n",
    "    else:\n",
    "        print(\"odd once\")    \n",
    "    return a\n",
    "print(even_numbers(a))        "
   ]
  },
  {
   "cell_type": "code",
   "execution_count": 34,
   "metadata": {},
   "outputs": [
    {
     "name": "stdout",
     "output_type": "stream",
     "text": [
      "6\n"
     ]
    }
   ],
   "source": [
    "a=int(input(\"enter first number to multiplyt:\"))\n",
    "b=int(input(\"enter second number to multiply:\"))\n",
    "def multiply(a,b):\n",
    "    \"\"\"multiplying two inputs\"\"\"\n",
    "    hello=a*b\n",
    "    return hello\n",
    "print(multiply(a,b))\n"
   ]
  },
  {
   "cell_type": "code",
   "execution_count": 11,
   "metadata": {},
   "outputs": [
    {
     "name": "stdout",
     "output_type": "stream",
     "text": [
      "a is 1 \n",
      "b is 2 \n",
      "c is 3\n",
      "a is 2 \n",
      "b is 3 \n",
      "c is 5\n",
      "a is 1 \n",
      "b is 33 \n",
      "c is 34\n"
     ]
    }
   ],
   "source": [
    "def functionname(a,b,c):\\\n",
    "    print(\"a is\", a, \"\\nb is\", b, \"\\nc is\", c)\n",
    "functionname(1,2,3)\n",
    "functionname(a=2,b=3,c=5)  \n",
    "functionname(1,b=33,c=34)  \n",
    "   "
   ]
  },
  {
   "cell_type": "code",
   "execution_count": 11,
   "metadata": {},
   "outputs": [
    {
     "name": "stdout",
     "output_type": "stream",
     "text": [
      "sushan bhandari\n",
      "sushanbhandari\n",
      "sushan -> bhandari\n"
     ]
    }
   ],
   "source": [
    " print(\"sushan\",\"bhandari\")\n",
    "\n",
    "print(\"sushan\",\"bhandari\", sep='')\n",
    "\n",
    " print(\"sushan\",\"bhandari\", sep=' -> ')"
   ]
  },
  {
   "cell_type": "code",
   "execution_count": 3,
   "metadata": {},
   "outputs": [
    {
     "name": "stdout",
     "output_type": "stream",
     "text": [
      "30\n"
     ]
    }
   ],
   "source": [
    "def calcAve(*numbers):\n",
    "\ttotal = 0\n",
    "\n",
    "\tfor num in numbers:\n",
    "\t\ttotal += num\n",
    "\n",
    "\t\treturn total/len(numbers)\n",
    "\n"
   ]
  },
  {
   "cell_type": "code",
   "execution_count": 4,
   "metadata": {},
   "outputs": [
    {
     "ename": "NameError",
     "evalue": "name 'math' is not defined",
     "output_type": "error",
     "traceback": [
      "\u001b[1;31m---------------------------------------------------------------------------\u001b[0m",
      "\u001b[1;31mNameError\u001b[0m                                 Traceback (most recent call last)",
      "Cell \u001b[1;32mIn [4], line 2\u001b[0m\n\u001b[0;32m      1\u001b[0m hypot \u001b[39m=\u001b[39m \u001b[39mlambda\u001b[39;00m a,b : math\u001b[39m.\u001b[39msqrt(a \u001b[39m*\u001b[39m a \u001b[39m+\u001b[39m b \u001b[39m*\u001b[39m b)\n\u001b[1;32m----> 2\u001b[0m hypot(\u001b[39m3\u001b[39;49m,\u001b[39m4\u001b[39;49m)\n\u001b[0;32m      3\u001b[0m \u001b[39mtype\u001b[39m(hypot)\n",
      "Cell \u001b[1;32mIn [4], line 1\u001b[0m, in \u001b[0;36m<lambda>\u001b[1;34m(a, b)\u001b[0m\n\u001b[1;32m----> 1\u001b[0m hypot \u001b[39m=\u001b[39m \u001b[39mlambda\u001b[39;00m a,b : math\u001b[39m.\u001b[39msqrt(a \u001b[39m*\u001b[39m a \u001b[39m+\u001b[39m b \u001b[39m*\u001b[39m b)\n\u001b[0;32m      2\u001b[0m hypot(\u001b[39m3\u001b[39m,\u001b[39m4\u001b[39m)\n\u001b[0;32m      3\u001b[0m \u001b[39mtype\u001b[39m(hypot)\n",
      "\u001b[1;31mNameError\u001b[0m: name 'math' is not defined"
     ]
    }
   ],
   "source": [
    "import math\n",
    "hypot = lambda a,b : math.sqrt(a * a + b * b)\n",
    "hypot(3,4)\n",
    "type(hypot)"
   ]
  },
  {
   "cell_type": "code",
   "execution_count": null,
   "metadata": {},
   "outputs": [],
   "source": []
  }
 ],
 "metadata": {
  "kernelspec": {
   "display_name": "Python 3.10.7 64-bit",
   "language": "python",
   "name": "python3"
  },
  "language_info": {
   "codemirror_mode": {
    "name": "ipython",
    "version": 3
   },
   "file_extension": ".py",
   "mimetype": "text/x-python",
   "name": "python",
   "nbconvert_exporter": "python",
   "pygments_lexer": "ipython3",
   "version": "3.10.7"
  },
  "orig_nbformat": 4,
  "vscode": {
   "interpreter": {
    "hash": "26de051ba29f2982a8de78e945f0abaf191376122a1563185a90213a26c5da77"
   }
  }
 },
 "nbformat": 4,
 "nbformat_minor": 2
}
